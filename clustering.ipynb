{
 "cells": [
  {
   "cell_type": "code",
   "execution_count": 41,
   "id": "0267056f",
   "metadata": {},
   "outputs": [],
   "source": [
    "from Bio.Cluster import kcluster\n",
    "import numpy as np\n",
    "sequences = [\n",
    "    'ATCGTCGGAATCCCA',\n",
    "    'ATCGTCGGAATTCCA',\n",
    "    'ATACTCGGAATCCCA',\n",
    "    'ATCTTCGGAATCCCT'\n",
    "    ]\n",
    "matrix = np.asarray([np.frombuffer(bytes(s,'UTF-8'), dtype=np.uint8) for s in sequences])\n",
    "clusterid, error, nfound = kcluster(matrix)"
   ]
  },
  {
   "cell_type": "code",
   "execution_count": 42,
   "id": "dc26136e",
   "metadata": {},
   "outputs": [
    {
     "data": {
      "text/plain": [
       "(array([0, 0, 0, 1], dtype=int32), 13.733333333333334, 1)"
      ]
     },
     "execution_count": 42,
     "metadata": {},
     "output_type": "execute_result"
    }
   ],
   "source": [
    "clusterid, error, nfound"
   ]
  },
  {
   "cell_type": "code",
   "execution_count": 43,
   "id": "dc13487d",
   "metadata": {},
   "outputs": [
    {
     "data": {
      "text/plain": [
       "array([[65, 84, 67, 71, 84, 67, 71, 71, 65, 65, 84, 67, 67, 67, 65],\n",
       "       [65, 84, 67, 71, 84, 67, 71, 71, 65, 65, 84, 84, 67, 67, 65],\n",
       "       [65, 84, 65, 67, 84, 67, 71, 71, 65, 65, 84, 67, 67, 67, 65],\n",
       "       [65, 84, 67, 84, 84, 67, 71, 71, 65, 65, 84, 67, 67, 67, 84]],\n",
       "      dtype=uint8)"
      ]
     },
     "execution_count": 43,
     "metadata": {},
     "output_type": "execute_result"
    }
   ],
   "source": [
    "matrix"
   ]
  },
  {
   "cell_type": "code",
   "execution_count": 50,
   "id": "bded5e46",
   "metadata": {},
   "outputs": [
    {
     "name": "stdout",
     "output_type": "stream",
     "text": [
      "[0 0 2 0]\n"
     ]
    }
   ],
   "source": [
    "from Bio.Cluster import kmedoids\n",
    "from Bio.Cluster import distancematrix\n",
    "distance = distancematrix(matrix)\n",
    "clusterid, error, nfound = kmedoids(distance)\n",
    "print(clusterid)"
   ]
  },
  {
   "cell_type": "code",
   "execution_count": 51,
   "id": "74fd3608",
   "metadata": {},
   "outputs": [
    {
     "data": {
      "text/plain": [
       "[array([], dtype=float64),\n",
       " array([19.26666667]),\n",
       " array([ 1.33333333, 20.6       ]),\n",
       " array([35.33333333, 54.6       , 43.6       ])]"
      ]
     },
     "execution_count": 51,
     "metadata": {},
     "output_type": "execute_result"
    }
   ],
   "source": [
    "distance"
   ]
  },
  {
   "cell_type": "code",
   "execution_count": 53,
   "id": "51a53c3d",
   "metadata": {},
   "outputs": [],
   "source": [
    "from Bio.Cluster import treecluster\n",
    "tree = treecluster(matrix)"
   ]
  },
  {
   "cell_type": "code",
   "execution_count": 54,
   "id": "7a0ba90c",
   "metadata": {},
   "outputs": [
    {
     "name": "stdout",
     "output_type": "stream",
     "text": [
      "(2, 0): 1.33333\n",
      "(1, -1): 20.6\n",
      "(3, -2): 54.6\n"
     ]
    }
   ],
   "source": [
    "print(tree)"
   ]
  },
  {
   "cell_type": "code",
   "execution_count": 55,
   "id": "6fdbcf89",
   "metadata": {},
   "outputs": [
    {
     "name": "stdout",
     "output_type": "stream",
     "text": [
      "[[1 0]\n",
      " [1 0]\n",
      " [1 0]\n",
      " [1 0]]\n"
     ]
    }
   ],
   "source": [
    "from Bio.Cluster import somcluster\n",
    "clusterid, celldata = somcluster(matrix)\n",
    "print(clusterid)"
   ]
  },
  {
   "cell_type": "code",
   "execution_count": 57,
   "id": "77381c29",
   "metadata": {},
   "outputs": [
    {
     "data": {
      "text/plain": [
       "array([[[ 0.42984903, -0.98493089, -0.63350623,  1.38175614,\n",
       "         -1.52459638,  0.1926566 , -0.1336591 ,  0.84398655,\n",
       "          1.03844029, -0.94466803, -1.56567315,  0.56071869,\n",
       "          0.2240029 , -1.50129525, -1.18419319]],\n",
       "\n",
       "       [[ 0.20632002, -1.57913146, -0.05944832, -1.00265061,\n",
       "          1.63699393,  1.64689379,  0.98034587, -0.19926861,\n",
       "         -0.34580009,  0.274372  , -1.54454702,  1.22993715,\n",
       "         -0.45221578,  0.78137922, -0.39224749]]])"
      ]
     },
     "execution_count": 57,
     "metadata": {},
     "output_type": "execute_result"
    }
   ],
   "source": [
    "celldata"
   ]
  },
  {
   "cell_type": "code",
   "execution_count": null,
   "id": "c77057e7",
   "metadata": {},
   "outputs": [],
   "source": []
  }
 ],
 "metadata": {
  "kernelspec": {
   "display_name": "Python 3 (ipykernel)",
   "language": "python",
   "name": "python3"
  },
  "language_info": {
   "codemirror_mode": {
    "name": "ipython",
    "version": 3
   },
   "file_extension": ".py",
   "mimetype": "text/x-python",
   "name": "python",
   "nbconvert_exporter": "python",
   "pygments_lexer": "ipython3",
   "version": "3.9.13"
  }
 },
 "nbformat": 4,
 "nbformat_minor": 5
}
